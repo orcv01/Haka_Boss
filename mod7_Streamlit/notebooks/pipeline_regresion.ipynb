{
 "cells": [
  {
   "cell_type": "code",
   "execution_count": null,
   "metadata": {},
   "outputs": [
    {
     "name": "stdout",
     "output_type": "stream",
     "text": [
      "R2 en train 0.99743404541846\n"
     ]
    },
    {
     "data": {
      "text/plain": [
       "['../models/pipeline_regresion.joblib']"
      ]
     },
     "execution_count": 3,
     "metadata": {},
     "output_type": "execute_result"
    }
   ],
   "source": [
    "## Pipeline de regresión sobre Diamons\n",
    "\n",
    "import pandas as pd\n",
    "import seaborn as sns\n",
    "from sklearn.pipeline import make_pipeline\n",
    "from sklearn.impute import SimpleImputer\n",
    "from sklearn.preprocessing import MinMaxScaler, OneHotEncoder\n",
    "from sklearn.ensemble import RandomForestRegressor\n",
    "from sklearn.compose import ColumnTransformer, make_column_selector, make_column_transformer\n",
    "import joblib\n",
    "\n",
    "# Carga de datos\n",
    "df = sns.load_dataset('diamonds')\n",
    "\n",
    "\n",
    "\n",
    "# Construcción del pipeline\n",
    "X = df.drop(columns=['price'])\n",
    "y = df['price']\n",
    "\n",
    "column_transformer = ColumnTransformer([\n",
    "    (\"num_pipeline\", make_pipeline(SimpleImputer(strategy='median'), MinMaxScaler()),\n",
    "     make_column_selector(dtype_include='number')),\n",
    "    (\"cat_pipeline\", make_pipeline(SimpleImputer(strategy='most_frequent'), OneHotEncoder(sparse_output=False)),\n",
    "     make_column_selector(dtype_include=['object', 'category']))\n",
    "])\n",
    "\n",
    "pipeline = make_pipeline(column_transformer, RandomForestRegressor(random_state=42))\n",
    "pipeline.fit(X, y)\n",
    "\n",
    "print('R2 en train', pipeline.score(X, y))\n",
    "\n",
    "# Guardar el modelo\n",
    "joblib.dump(pipeline, '../models/pipeline_regresion.joblib')\n",
    "\n",
    "\n"
   ]
  }
 ],
 "metadata": {
  "kernelspec": {
   "display_name": "Python 3",
   "language": "python",
   "name": "python3"
  },
  "language_info": {
   "codemirror_mode": {
    "name": "ipython",
    "version": 3
   },
   "file_extension": ".py",
   "mimetype": "text/x-python",
   "name": "python",
   "nbconvert_exporter": "python",
   "pygments_lexer": "ipython3",
   "version": "3.13.0"
  }
 },
 "nbformat": 4,
 "nbformat_minor": 2
}
