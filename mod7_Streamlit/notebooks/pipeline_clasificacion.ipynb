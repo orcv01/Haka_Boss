{
 "cells": [
  {
   "cell_type": "code",
   "execution_count": 2,
   "metadata": {},
   "outputs": [
    {
     "name": "stdout",
     "output_type": "stream",
     "text": [
      "accuracy en train 0.999888765294772\n"
     ]
    },
    {
     "data": {
      "text/plain": [
       "['../models/pipeline_clasificacion.joblib']"
      ]
     },
     "execution_count": 2,
     "metadata": {},
     "output_type": "execute_result"
    }
   ],
   "source": [
    "## Pipeline de clasificación sobre Diamons\n",
    "\n",
    "import pandas as pd\n",
    "import seaborn as sns\n",
    "import joblib\n",
    "from sklearn.pipeline import make_pipeline\n",
    "from sklearn.compose import ColumnTransformer, make_column_selector\n",
    "from sklearn.preprocessing import OneHotEncoder, MinMaxScaler\n",
    "from sklearn.impute import SimpleImputer\n",
    "from sklearn.ensemble import RandomForestClassifier\n",
    "from sklearn.metrics import accuracy_score\n",
    "from sklearn.preprocessing import LabelEncoder\n",
    "\n",
    "# Carga de datos\n",
    "df = sns.load_dataset('diamonds')\n",
    "\n",
    "# Definir variables\n",
    "X = df.drop(columns=['cut'])  # Ahora predecimos \"cut\"\n",
    "\n",
    "# Codificar la variable objetivo\n",
    "le = LabelEncoder()\n",
    "y = le.fit_transform(df['cut'])  # Convierte 'cut' en valores numéricos\n",
    "\n",
    "# Transformaciones\n",
    "column_transformer = ColumnTransformer([\n",
    "    (\"num_pipeline\", make_pipeline(SimpleImputer(strategy='median'), MinMaxScaler()),\n",
    "     make_column_selector(dtype_include='number')),\n",
    "    (\"cat_pipeline\", make_pipeline(SimpleImputer(strategy='most_frequent'), OneHotEncoder(sparse_output=False)),\n",
    "     make_column_selector(dtype_include=['object', 'category']))\n",
    "])\n",
    "\n",
    "# Pipeline con RandomForestClassifier\n",
    "pipeline = make_pipeline(column_transformer, RandomForestClassifier(random_state=42))\n",
    "pipeline.fit(X, y)\n",
    "\n",
    "# Evaluación del modelo en los mismos datos\n",
    "y_pred = pipeline.predict(X)\n",
    "accuracy = accuracy_score(y, y_pred)\n",
    "\n",
    "print('accuracy en train', accuracy)\n",
    "\n",
    "\n",
    "# Guardar el modelo en la carpeta models/\n",
    "joblib.dump(pipeline, '../models/pipeline_clasificacion.joblib')\n"
   ]
  }
 ],
 "metadata": {
  "kernelspec": {
   "display_name": "Python 3",
   "language": "python",
   "name": "python3"
  },
  "language_info": {
   "codemirror_mode": {
    "name": "ipython",
    "version": 3
   },
   "file_extension": ".py",
   "mimetype": "text/x-python",
   "name": "python",
   "nbconvert_exporter": "python",
   "pygments_lexer": "ipython3",
   "version": "3.13.0"
  }
 },
 "nbformat": 4,
 "nbformat_minor": 2
}
